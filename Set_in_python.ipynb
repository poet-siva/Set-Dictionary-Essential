{
  "nbformat": 4,
  "nbformat_minor": 0,
  "metadata": {
    "colab": {
      "name": "Set in python.ipynb",
      "provenance": [],
      "authorship_tag": "ABX9TyPLTcpQX5DugBqI5sZu1IKZ",
      "include_colab_link": true
    },
    "kernelspec": {
      "name": "python3",
      "display_name": "Python 3"
    }
  },
  "cells": [
    {
      "cell_type": "markdown",
      "metadata": {
        "id": "view-in-github",
        "colab_type": "text"
      },
      "source": [
        "<a href=\"https://colab.research.google.com/github/poet-siva/Set-Dictionary-Essential/blob/main/Set_in_python.ipynb\" target=\"_parent\"><img src=\"https://colab.research.google.com/assets/colab-badge.svg\" alt=\"Open In Colab\"/></a>"
      ]
    },
    {
      "cell_type": "code",
      "metadata": {
        "id": "Pz0qDKwAaXma"
      },
      "source": [
        "#List functions"
      ],
      "execution_count": null,
      "outputs": []
    },
    {
      "cell_type": "code",
      "metadata": {
        "colab": {
          "base_uri": "https://localhost:8080/"
        },
        "id": "RVxhjFP3bhRH",
        "outputId": "ea2fccc0-f2fd-4c90-c80a-5f51482170d3"
      },
      "source": [
        "l =[10,20,30,40,50]\n",
        "print (l)\n",
        "l.append(60)\n",
        "print (l)\n",
        "l.append(80)\n",
        "print (l)\n",
        "l.append('Siva')\n",
        "print(l)\n",
        "l.extend([900,600,577,321,432])\n",
        "print (l)\n",
        "print (l.count(20))\n",
        "print (l.index(50))\n",
        "l.remove(40)\n",
        "print (l)\n",
        "l.insert(2,99)\n",
        "print (l)\n",
        "l.insert(5, \"Adhi\")\n",
        "print (l)\n",
        "print(len(l))\n",
        "l.reverse()\n",
        "print (l)"
      ],
      "execution_count": null,
      "outputs": [
        {
          "output_type": "stream",
          "text": [
            "[10, 20, 30, 40, 50]\n",
            "[10, 20, 30, 40, 50, 60]\n",
            "[10, 20, 30, 40, 50, 60, 80]\n",
            "[10, 20, 30, 40, 50, 60, 80, 'Siva']\n",
            "[10, 20, 30, 40, 50, 60, 80, 'Siva', 900, 600, 577, 321, 432]\n",
            "1\n",
            "4\n",
            "[10, 20, 30, 50, 60, 80, 'Siva', 900, 600, 577, 321, 432]\n",
            "[10, 20, 99, 30, 50, 60, 80, 'Siva', 900, 600, 577, 321, 432]\n",
            "[10, 20, 99, 30, 50, 'Adhi', 60, 80, 'Siva', 900, 600, 577, 321, 432]\n",
            "14\n",
            "[432, 321, 577, 600, 900, 'Siva', 80, 60, 'Adhi', 50, 30, 99, 20, 10]\n"
          ],
          "name": "stdout"
        }
      ]
    },
    {
      "cell_type": "code",
      "metadata": {
        "id": "sFpxvf5dcYAv"
      },
      "source": [
        "#WAP to accept n number from the user and perform it's addition."
      ],
      "execution_count": null,
      "outputs": []
    },
    {
      "cell_type": "code",
      "metadata": {
        "colab": {
          "base_uri": "https://localhost:8080/"
        },
        "id": "for1xl4Dcl_q",
        "outputId": "122018d5-ccbe-4fd3-9d4b-a077edfb25f9"
      },
      "source": [
        "l=[]\n",
        "n = int (input (\"How many numbers you want to insert: \"))\n",
        "for i in range (n):\n",
        "    temp= float(input ())\n",
        "    l.append(temp)\n",
        "print (l)\n",
        "print (sum(l))"
      ],
      "execution_count": null,
      "outputs": [
        {
          "output_type": "stream",
          "text": [
            "How many numbers you want to insert: 5\n",
            "6\n",
            "8\n",
            "9\n",
            "2\n",
            "5\n",
            "[6.0, 8.0, 9.0, 2.0, 5.0]\n",
            "30.0\n"
          ],
          "name": "stdout"
        }
      ]
    },
    {
      "cell_type": "markdown",
      "metadata": {
        "id": "loi49K0LbewY"
      },
      "source": [
        ""
      ]
    },
    {
      "cell_type": "markdown",
      "metadata": {
        "id": "bMIlTHlrhqlG"
      },
      "source": [
        "#To arrenge the numbers in descending order then use this"
      ]
    },
    {
      "cell_type": "code",
      "metadata": {
        "colab": {
          "base_uri": "https://localhost:8080/"
        },
        "id": "Rri2CiB1hwO1",
        "outputId": "59ab1d09-58ec-47d5-d89a-b970e26350ca"
      },
      "source": [
        "l = [80,67,89,90,100]\n",
        "print (l)\n",
        "l.sort(reverse=True)\n",
        "print (l)\n",
        "l.sort(reverse=False)\n",
        "print (l)\n",
        "l.remove(89)\n",
        "print (l)\n",
        "l.pop(3) #passed index position to be popped\n",
        "print (l)"
      ],
      "execution_count": null,
      "outputs": [
        {
          "output_type": "stream",
          "text": [
            "[80, 67, 89, 90, 100]\n",
            "[100, 90, 89, 80, 67]\n",
            "[67, 80, 89, 90, 100]\n",
            "[67, 80, 90, 100]\n",
            "[67, 80, 90]\n"
          ],
          "name": "stdout"
        }
      ]
    },
    {
      "cell_type": "markdown",
      "metadata": {
        "id": "RmRU675FjbI8"
      },
      "source": [
        " Tuples don't have any functions because they are fixed, that is immutable"
      ]
    },
    {
      "cell_type": "markdown",
      "metadata": {
        "id": "X9h8hsofjtUL"
      },
      "source": [
        "#Sets\n",
        " \n",
        "It is unordered and unindexed"
      ]
    },
    {
      "cell_type": "code",
      "metadata": {
        "colab": {
          "base_uri": "https://localhost:8080/",
          "height": 350
        },
        "id": "86YzgQ7lj0eJ",
        "outputId": "90a2905e-ba44-4303-92d1-06b94f858f75"
      },
      "source": [
        "l= {80,70,50,12,100}\n",
        "print (l)\n",
        "print (type (l)) #unordered\n",
        "print (l[1]) #unindexed"
      ],
      "execution_count": null,
      "outputs": [
        {
          "output_type": "stream",
          "text": [
            "{100, 70, 12, 80, 50}\n",
            "<class 'set'>\n"
          ],
          "name": "stdout"
        },
        {
          "output_type": "error",
          "ename": "TypeError",
          "evalue": "ignored",
          "traceback": [
            "\u001b[0;31m---------------------------------------------------------------------------\u001b[0m",
            "\u001b[0;31mTypeError\u001b[0m                                 Traceback (most recent call last)",
            "\u001b[0;32m<ipython-input-36-beb213c67272>\u001b[0m in \u001b[0;36m<module>\u001b[0;34m()\u001b[0m\n\u001b[1;32m      2\u001b[0m \u001b[0mprint\u001b[0m \u001b[0;34m(\u001b[0m\u001b[0ml\u001b[0m\u001b[0;34m)\u001b[0m\u001b[0;34m\u001b[0m\u001b[0;34m\u001b[0m\u001b[0m\n\u001b[1;32m      3\u001b[0m \u001b[0mprint\u001b[0m \u001b[0;34m(\u001b[0m\u001b[0mtype\u001b[0m \u001b[0;34m(\u001b[0m\u001b[0ml\u001b[0m\u001b[0;34m)\u001b[0m\u001b[0;34m)\u001b[0m \u001b[0;31m#unordered\u001b[0m\u001b[0;34m\u001b[0m\u001b[0;34m\u001b[0m\u001b[0m\n\u001b[0;32m----> 4\u001b[0;31m \u001b[0mprint\u001b[0m \u001b[0;34m(\u001b[0m\u001b[0ml\u001b[0m\u001b[0;34m[\u001b[0m\u001b[0;36m1\u001b[0m\u001b[0;34m]\u001b[0m\u001b[0;34m)\u001b[0m\u001b[0;34m\u001b[0m\u001b[0;34m\u001b[0m\u001b[0m\n\u001b[0m",
            "\u001b[0;31mTypeError\u001b[0m: 'set' object is not subscriptable"
          ]
        }
      ]
    },
    {
      "cell_type": "code",
      "metadata": {
        "colab": {
          "base_uri": "https://localhost:8080/"
        },
        "id": "9iPuOGZWkzLI",
        "outputId": "a878869c-8049-4a03-d79a-ce6be8734190"
      },
      "source": [
        "set ={\"apple\", \"banana\", \"pineapple\"}\n",
        "print (set)\n",
        "print (len(set))\n",
        "print (\"banana\" in set)\n",
        "print (\"apple\" in set)\n",
        "set.add(\"orange\")\n",
        "print (set)"
      ],
      "execution_count": null,
      "outputs": [
        {
          "output_type": "stream",
          "text": [
            "{'banana', 'pineapple', 'apple'}\n",
            "3\n",
            "True\n",
            "True\n",
            "{'banana', 'pineapple', 'orange', 'apple'}\n"
          ],
          "name": "stdout"
        }
      ]
    },
    {
      "cell_type": "markdown",
      "metadata": {
        "id": "pWvQkNFglVv5"
      },
      "source": [
        "It will not allow duplicate values"
      ]
    },
    {
      "cell_type": "markdown",
      "metadata": {
        "id": "EwvXMGYulfr3"
      },
      "source": [
        "Sets are unique"
      ]
    },
    {
      "cell_type": "markdown",
      "metadata": {
        "id": "R0g9UHgFmX1r"
      },
      "source": [
        "To convert a set into list"
      ]
    },
    {
      "cell_type": "code",
      "metadata": {
        "colab": {
          "base_uri": "https://localhost:8080/"
        },
        "id": "wd8enICJmbC2",
        "outputId": "2a1852a0-4020-4664-e3bf-a8ad0ff62e10"
      },
      "source": [
        "set = { \"banana\" , \"apple\", \"watermelon\"}\n",
        "l = list (set)\n",
        "print (l)"
      ],
      "execution_count": null,
      "outputs": [
        {
          "output_type": "stream",
          "text": [
            "['banana', 'watermelon', 'apple']\n"
          ],
          "name": "stdout"
        }
      ]
    },
    {
      "cell_type": "code",
      "metadata": {
        "colab": {
          "base_uri": "https://localhost:8080/"
        },
        "id": "WO2Ewqo4mueK",
        "outputId": "0cde5877-7960-431f-a217-d9a3dc75c5aa"
      },
      "source": [
        "set = { \"banana\" , \"apple\", \"watermelon\"}\n",
        "tropical = { \"papaya\", \"orange\", \"mango\"}\n",
        "set.update(tropical)\n",
        "print (set)"
      ],
      "execution_count": null,
      "outputs": [
        {
          "output_type": "stream",
          "text": [
            "{'banana', 'watermelon', 'apple', 'mango', 'papaya', 'orange'}\n"
          ],
          "name": "stdout"
        }
      ]
    },
    {
      "cell_type": "markdown",
      "metadata": {
        "id": "bdCmYAZLnxuS"
      },
      "source": [
        "#Dictionary\n",
        " \n",
        "It is stored in the form of {KEY : VALUE}"
      ]
    },
    {
      "cell_type": "code",
      "metadata": {
        "id": "-7-mLfbgn-oN"
      },
      "source": [
        "#Keys are fixed  and Values are mutable"
      ],
      "execution_count": null,
      "outputs": []
    },
    {
      "cell_type": "code",
      "metadata": {
        "colab": {
          "base_uri": "https://localhost:8080/"
        },
        "id": "ycSE2XpUoI4g",
        "outputId": "53f7b24e-85dc-4457-d606-12b790cf81fa"
      },
      "source": [
        "d = {1:10000, 2:20000, 3:30000, 4:33000}\n",
        "print (d)"
      ],
      "execution_count": null,
      "outputs": [
        {
          "output_type": "stream",
          "text": [
            "{1: 10000, 2: 20000, 3: 30000, 4: 33000}\n"
          ],
          "name": "stdout"
        }
      ]
    },
    {
      "cell_type": "code",
      "metadata": {
        "colab": {
          "base_uri": "https://localhost:8080/"
        },
        "id": "4GgRcAUdoq7Z",
        "outputId": "13b32077-ad2d-4b6e-8225-c3e818c0d1ae"
      },
      "source": [
        "d = {2.34:50000, 6.89:670, 8.675:6000}\n",
        "print (d)"
      ],
      "execution_count": null,
      "outputs": [
        {
          "output_type": "stream",
          "text": [
            "{2.34: 50000, 6.89: 670, 8.675: 6000}\n"
          ],
          "name": "stdout"
        }
      ]
    },
    {
      "cell_type": "code",
      "metadata": {
        "id": "yH8zu9FSpPCG"
      },
      "source": [
        ""
      ],
      "execution_count": null,
      "outputs": []
    }
  ]
}